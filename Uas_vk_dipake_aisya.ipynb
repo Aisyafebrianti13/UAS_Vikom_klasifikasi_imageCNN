{
  "cells": [
    {
      "cell_type": "code",
      "execution_count": 10,
      "metadata": {
        "id": "05LjacLWoo1m"
      },
      "outputs": [],
      "source": [
        "import tensorflow as tf\n",
        "from tensorflow.keras.models import Sequential\n",
        "from tensorflow.keras.layers import Conv2D, MaxPooling2D, Flatten, Dense\n",
        "from tensorflow.keras.datasets import cifar10\n",
        "from tensorflow.keras.preprocessing import image\n",
        "import numpy as np\n",
        "import matplotlib.pyplot as plt"
      ]
    },
    {
      "cell_type": "code",
      "execution_count": 11,
      "metadata": {
        "id": "I6Wy9Cl9ouaY"
      },
      "outputs": [],
      "source": [
        "# Load dataset CIFAR-10\n",
        "(x_train, y_train), (x_test, y_test) = cifar10.load_data()\n",
        "x_train, x_test = x_train / 255.0, x_test / 255.0"
      ]
    },
    {
      "cell_type": "code",
      "execution_count": 12,
      "metadata": {
        "id": "dUZ-z0ukoudP"
      },
      "outputs": [],
      "source": [
        "# Definisikan model CNN\n",
        "model = Sequential([\n",
        "    Conv2D(32, (3, 3), activation='relu', input_shape=(32, 32, 3), name='conv_1'),\n",
        "    MaxPooling2D((2, 2), name='maxpool_1'),\n",
        "    Conv2D(64, (3, 3), activation='relu', name='conv_2'),\n",
        "    MaxPooling2D((2, 2), name='maxpool_2'),\n",
        "    Flatten(name='flatten'),\n",
        "    Dense(128, activation='relu', name='dense_1'),\n",
        "    Dense(10, activation='softmax', name='output')\n",
        "])"
      ]
    },
    {
      "cell_type": "code",
      "execution_count": 13,
      "metadata": {
        "colab": {
          "base_uri": "https://localhost:8080/"
        },
        "id": "DMTSJz3FougK",
        "outputId": "5b460d31-5f73-4eaa-8a98-30ad8263bf97"
      },
      "outputs": [
        {
          "output_type": "stream",
          "name": "stdout",
          "text": [
            "Epoch 1/10\n",
            "1563/1563 [==============================] - 73s 46ms/step - loss: 1.4268 - accuracy: 0.4880 - val_loss: 1.1830 - val_accuracy: 0.5887\n",
            "Epoch 2/10\n",
            "1563/1563 [==============================] - 71s 46ms/step - loss: 1.0601 - accuracy: 0.6293 - val_loss: 0.9971 - val_accuracy: 0.6574\n",
            "Epoch 3/10\n",
            "1563/1563 [==============================] - 70s 45ms/step - loss: 0.9225 - accuracy: 0.6791 - val_loss: 0.9747 - val_accuracy: 0.6595\n",
            "Epoch 4/10\n",
            "1563/1563 [==============================] - 70s 45ms/step - loss: 0.8292 - accuracy: 0.7110 - val_loss: 0.9812 - val_accuracy: 0.6610\n",
            "Epoch 5/10\n",
            "1563/1563 [==============================] - 69s 44ms/step - loss: 0.7463 - accuracy: 0.7413 - val_loss: 0.8907 - val_accuracy: 0.6947\n",
            "Epoch 6/10\n",
            "1563/1563 [==============================] - 71s 45ms/step - loss: 0.6758 - accuracy: 0.7645 - val_loss: 0.9151 - val_accuracy: 0.6944\n",
            "Epoch 7/10\n",
            "1563/1563 [==============================] - 69s 44ms/step - loss: 0.6116 - accuracy: 0.7836 - val_loss: 0.8661 - val_accuracy: 0.7102\n",
            "Epoch 8/10\n",
            "1563/1563 [==============================] - 68s 44ms/step - loss: 0.5547 - accuracy: 0.8056 - val_loss: 0.9086 - val_accuracy: 0.7047\n",
            "Epoch 9/10\n",
            "1563/1563 [==============================] - 69s 44ms/step - loss: 0.4968 - accuracy: 0.8246 - val_loss: 0.9619 - val_accuracy: 0.7005\n",
            "Epoch 10/10\n",
            "1563/1563 [==============================] - 69s 44ms/step - loss: 0.4397 - accuracy: 0.8458 - val_loss: 1.0087 - val_accuracy: 0.6977\n",
            "Model: \"sequential_1\"\n",
            "_________________________________________________________________\n",
            " Layer (type)                Output Shape              Param #   \n",
            "=================================================================\n",
            " conv_1 (Conv2D)             (None, 30, 30, 32)        896       \n",
            "                                                                 \n",
            " maxpool_1 (MaxPooling2D)    (None, 15, 15, 32)        0         \n",
            "                                                                 \n",
            " conv_2 (Conv2D)             (None, 13, 13, 64)        18496     \n",
            "                                                                 \n",
            " maxpool_2 (MaxPooling2D)    (None, 6, 6, 64)          0         \n",
            "                                                                 \n",
            " flatten (Flatten)           (None, 2304)              0         \n",
            "                                                                 \n",
            " dense_1 (Dense)             (None, 128)               295040    \n",
            "                                                                 \n",
            " output (Dense)              (None, 10)                1290      \n",
            "                                                                 \n",
            "=================================================================\n",
            "Total params: 315722 (1.20 MB)\n",
            "Trainable params: 315722 (1.20 MB)\n",
            "Non-trainable params: 0 (0.00 Byte)\n",
            "_________________________________________________________________\n"
          ]
        }
      ],
      "source": [
        "# Kompilasi model\n",
        "model.compile(optimizer='adam', loss='sparse_categorical_crossentropy', metrics=['accuracy'])\n",
        "\n",
        "# Latih model\n",
        "model.fit(x_train, y_train, epochs=10, validation_data=(x_test, y_test))\n",
        "\n",
        "# Ringkasan model untuk melihat arsitektur\n",
        "model.summary()\n",
        "\n",
        "# Label untuk dataset CIFAR-10\n",
        "class_names = ['airplane', 'automobile', 'bird', 'cat', 'deer', 'dog', 'frog', 'horse', 'ship', 'truck']\n"
      ]
    },
    {
      "cell_type": "code",
      "execution_count": 14,
      "metadata": {
        "id": "usB_BSGPoujd"
      },
      "outputs": [],
      "source": [
        " #Fungsi untuk memuat dan memproses gambar\n",
        "def load_and_preprocess_image(img_path):\n",
        "    img = image.load_img(img_path, target_size=(32, 32))\n",
        "    img_array = image.img_to_array(img)\n",
        "    img_array = np.expand_dims(img_array, axis=0)\n",
        "    img_array /= 255.0  # Normalisasi pixel ke rentang [0, 1]\n",
        "    return img_array"
      ]
    },
    {
      "cell_type": "code",
      "execution_count": 15,
      "metadata": {
        "id": "1_douYNGoumX"
      },
      "outputs": [],
      "source": [
        "# Fungsi untuk prediksi gambar dan menampilkan hasil\n",
        "def predict_and_display(img_path):\n",
        "    img_array = load_and_preprocess_image(img_path)\n",
        "    prediction = model.predict(img_array)\n",
        "    predicted_class = np.argmax(prediction[0])\n",
        "    predicted_label = class_names[predicted_class]\n",
        "\n",
        "    plt.imshow(image.load_img(img_path, target_size=(32, 32)))\n",
        "    plt.title(f'Predicted: {predicted_label}')\n",
        "    plt.axis('off')\n",
        "    plt.show()\n",
        "    return predicted_label"
      ]
    },
    {
      "cell_type": "code",
      "execution_count": 16,
      "metadata": {
        "colab": {
          "base_uri": "https://localhost:8080/",
          "height": 874
        },
        "id": "JGzgjLlCoupO",
        "outputId": "28454706-f605-4c87-e528-5b47460392e2"
      },
      "outputs": [
        {
          "output_type": "stream",
          "name": "stdout",
          "text": [
            "1/1 [==============================] - 0s 86ms/step\n"
          ]
        },
        {
          "output_type": "display_data",
          "data": {
            "text/plain": [
              "<Figure size 640x480 with 1 Axes>"
            ],
            "image/png": "[encoded data removed]"
          },
          "metadata": {}
        },
        {
          "output_type": "stream",
          "name": "stdout",
          "text": [
            "1/1 [==============================] - 0s 21ms/step\n"
          ]
        },
        {
          "output_type": "display_data",
          "data": {
            "text/plain": [
              "<Figure size 640x480 with 1 Axes>"
            ],
            "image/png": "[encoded data removed]"
          },
          "metadata": {}
        }
      ],
      "source": [
        "# Input gambar pengguna\n",
        "img_path1 = 'keledai.jpg'  # Ganti dengan path gambar pertama Anda\n",
        "img_path2 = 'cat2.jpeg'  # Ganti dengan path gambar kedua Anda\n",
        "\n",
        "# Prediksi dan tampilkan hasil\n",
        "label1 = predict_and_display(img_path1)\n",
        "label2 = predict_and_display(img_path2)"
      ]
    },
    {
      "cell_type": "code",
      "execution_count": 17,
      "metadata": {
        "colab": {
          "base_uri": "https://localhost:8080/",
          "height": 839
        },
        "id": "QFGrLp4uoush",
        "outputId": "9c7541dd-f91d-4cbc-9b8a-edf4712a462b"
      },
      "outputs": [
        {
          "output_type": "display_data",
          "data": {
            "text/plain": [
              "<Figure size 640x480 with 1 Axes>"
            ],
            "image/png": "[encoded data removed]"
          },
          "metadata": {}
        },
        {
          "output_type": "display_data",
          "data": {
            "text/plain": [
              "<Figure size 640x480 with 1 Axes>"
            ],
            "image/png": "[encoded data removed]"
          },
          "metadata": {}
        }
      ],
      "source": [
        "# Tampilkan contoh gambar dari dataset yang sesuai dengan prediksi\n",
        "def display_example_image(label):\n",
        "    class_idx = class_names.index(label)\n",
        "    example_idx = np.where(y_test == class_idx)[0][0]\n",
        "    example_image = x_test[example_idx]\n",
        "\n",
        "    plt.imshow(example_image)\n",
        "    plt.title(f'Example of: {label}')\n",
        "    plt.axis('off')\n",
        "    plt.show()\n",
        "\n",
        "display_example_image(label1)\n",
        "display_example_image(label2)"
      ]
    },
    {
      "cell_type": "code",
      "execution_count": 18,
      "metadata": {
        "id": "yCYF3QfRouv_"
      },
      "outputs": [],
      "source": [
        "# Visualisasi perhitungan layer convolution, max pooling, dan flatten\n",
        "def visualize_layer(layer_name, img_array):\n",
        "    intermediate_layer_model = tf.keras.models.Model(inputs=model.input, outputs=model.get_layer(layer_name).output)\n",
        "    intermediate_output = intermediate_layer_model.predict(img_array)\n",
        "\n",
        "    print(f\"Layer: {layer_name}\")\n",
        "    print(f\"Output shape: {intermediate_output.shape}\")\n",
        "    print(\"Output values:\")\n",
        "    print(intermediate_output)\n",
        "\n",
        "    num_filters = intermediate_output.shape[-1]\n",
        "    fig, axes = plt.subplots(1, min(num_filters, 5), figsize=(20, 20))\n",
        "\n",
        "    for i in range(min(num_filters, 5)):\n",
        "        ax = axes[i]\n",
        "        ax.imshow(intermediate_output[0, :, :, i], cmap='viridis')\n",
        "        ax.axis('off')\n",
        "\n",
        "    plt.show()"
      ]
    },
    {
      "cell_type": "code",
      "execution_count": 19,
      "metadata": {
        "colab": {
          "base_uri": "https://localhost:8080/",
          "height": 1000
        },
        "id": "N4xwLU9mpqVw",
        "outputId": "21ca4527-af22-49bd-e55a-535ce9b5b36b"
      },
      "outputs": [
        {
          "output_type": "stream",
          "name": "stdout",
          "text": [
            "1/1 [==============================] - 0s 65ms/step\n",
            "Layer: conv_1\n",
            "Output shape: (1, 30, 30, 32)\n",
            "Output values:\n",
            "[[[[0.         0.         0.         ... 0.         0.22535992\n",
            "    0.16841117]\n",
            "   [0.         0.         0.         ... 0.         0.\n",
            "    0.        ]\n",
            "   [0.12209329 0.         0.         ... 0.         0.27205554\n",
            "    0.        ]\n",
            "   ...\n",
            "   [0.         0.38920024 0.442212   ... 0.         0.\n",
            "    0.17945442]\n",
            "   [0.         0.40553376 0.4175495  ... 0.         0.\n",
            "    0.11926176]\n",
            "   [0.         0.42689708 0.400498   ... 0.         0.\n",
            "    0.12551597]]\n",
            "\n",
            "  [[0.         0.         0.         ... 0.         0.\n",
            "    0.0339617 ]\n",
            "   [0.19118959 0.         0.         ... 0.         0.\n",
            "    0.        ]\n",
            "   [0.2861246  0.12334907 0.         ... 0.         0.27833045\n",
            "    0.        ]\n",
            "   ...\n",
            "   [0.         0.3832784  0.47348213 ... 0.         0.\n",
            "    0.1119853 ]\n",
            "   [0.         0.38521585 0.46131563 ... 0.         0.\n",
            "    0.12505531]\n",
            "   [0.         0.39925912 0.44208568 ... 0.         0.\n",
            "    0.15931508]]\n",
            "\n",
            "  [[0.05221815 0.         0.         ... 0.         0.04467376\n",
            "    0.        ]\n",
            "   [0.3656847  0.         0.         ... 0.         0.\n",
            "    0.14781347]\n",
            "   [0.15130064 0.11081922 0.         ... 0.         0.27772605\n",
            "    0.        ]\n",
            "   ...\n",
            "   [0.         0.37405106 0.45260006 ... 0.         0.\n",
            "    0.05252967]\n",
            "   [0.         0.38542798 0.46101254 ... 0.         0.\n",
            "    0.14177004]\n",
            "   [0.         0.38180587 0.4725272  ... 0.         0.\n",
            "    0.12925586]]\n",
            "\n",
            "  ...\n",
            "\n",
            "  [[0.16225053 0.37880996 0.00865565 ... 0.         0.20428815\n",
            "    0.22106758]\n",
            "   [0.         0.2713063  0.02650683 ... 0.         0.\n",
            "    0.35396847]\n",
            "   [0.         0.20922658 0.         ... 0.         0.\n",
            "    0.        ]\n",
            "   ...\n",
            "   [0.13558339 0.         0.02107671 ... 0.         0.\n",
            "    0.        ]\n",
            "   [0.64817506 0.1875523  0.         ... 0.         0.23719019\n",
            "    0.        ]\n",
            "   [0.         0.22323832 0.         ... 0.         0.\n",
            "    0.        ]]\n",
            "\n",
            "  [[0.         0.2923679  0.08563835 ... 0.         0.06371426\n",
            "    0.21978962]\n",
            "   [0.         0.208805   0.0192376  ... 0.         0.\n",
            "    0.08637571]\n",
            "   [0.         0.21321484 0.00614285 ... 0.         0.05388788\n",
            "    0.06620393]\n",
            "   ...\n",
            "   [0.23416951 0.14268297 0.         ... 0.         0.\n",
            "    0.07474991]\n",
            "   [0.66388637 0.305065   0.         ... 0.         0.18559334\n",
            "    0.27143618]\n",
            "   [0.         0.32533112 0.05991895 ... 0.         0.\n",
            "    0.        ]]\n",
            "\n",
            "  [[0.         0.06657255 0.07621092 ... 0.         0.\n",
            "    0.2751085 ]\n",
            "   [0.3256049  0.14818558 0.07882317 ... 0.         0.\n",
            "    0.        ]\n",
            "   [0.         0.29211614 0.01279489 ... 0.         0.16338325\n",
            "    0.07182414]\n",
            "   ...\n",
            "   [0.         0.23573354 0.         ... 0.         0.\n",
            "    0.12628704]\n",
            "   [0.19287859 0.21891716 0.06242674 ... 0.         0.\n",
            "    0.36969647]\n",
            "   [0.0755814  0.25475648 0.09437753 ... 0.         0.\n",
            "    0.        ]]]]\n"
          ]
        },
        {
          "output_type": "display_data",
          "data": {
            "text/plain": [
              "<Figure size 2000x2000 with 5 Axes>"
            ],
            "image/png": "[encoded data removed]"
          },
          "metadata": {}
        },
        {
          "output_type": "stream",
          "name": "stdout",
          "text": [
            "1/1 [==============================] - 0s 73ms/step\n",
            "Layer: maxpool_1\n",
            "Output shape: (1, 15, 15, 32)\n",
            "Output values:\n",
            "[[[[1.91189587e-01 0.00000000e+00 0.00000000e+00 ... 0.00000000e+00\n",
            "    2.25359917e-01 1.68411165e-01]\n",
            "   [2.86124587e-01 1.23349071e-01 0.00000000e+00 ... 0.00000000e+00\n",
            "    2.78330445e-01 1.33562356e-01]\n",
            "   [4.23803866e-01 2.31347471e-01 2.43955314e-01 ... 0.00000000e+00\n",
            "    3.19652230e-01 3.41141313e-01]\n",
            "   ...\n",
            "   [5.57757974e-01 4.07183260e-01 5.17433167e-01 ... 0.00000000e+00\n",
            "    6.33087009e-04 1.65212691e-01]\n",
            "   [0.00000000e+00 4.03193444e-01 4.73482132e-01 ... 0.00000000e+00\n",
            "    0.00000000e+00 1.79454416e-01]\n",
            "   [0.00000000e+00 4.26897079e-01 4.61315632e-01 ... 0.00000000e+00\n",
            "    0.00000000e+00 1.59315079e-01]]\n",
            "\n",
            "  [[3.65684688e-01 0.00000000e+00 0.00000000e+00 ... 0.00000000e+00\n",
            "    1.15364127e-01 2.01611638e-01]\n",
            "   [3.04723531e-01 1.45000607e-01 0.00000000e+00 ... 0.00000000e+00\n",
            "    3.86323839e-01 1.61545455e-01]\n",
            "   [2.94402182e-01 1.06157154e-01 0.00000000e+00 ... 0.00000000e+00\n",
            "    3.34545761e-01 1.25319660e-01]\n",
            "   ...\n",
            "   [6.22437596e-01 4.04392630e-01 4.32077646e-01 ... 0.00000000e+00\n",
            "    3.82658064e-01 6.36060655e-01]\n",
            "   [3.43282908e-01 3.74051064e-01 4.52600062e-01 ... 0.00000000e+00\n",
            "    0.00000000e+00 7.34241381e-02]\n",
            "   [0.00000000e+00 3.85427982e-01 4.78264570e-01 ... 0.00000000e+00\n",
            "    0.00000000e+00 1.41770035e-01]]\n",
            "\n",
            "  [[3.64814728e-01 0.00000000e+00 0.00000000e+00 ... 0.00000000e+00\n",
            "    1.32187963e-01 0.00000000e+00]\n",
            "   [5.55339716e-02 1.54117048e-02 0.00000000e+00 ... 0.00000000e+00\n",
            "    2.34578073e-01 2.31475979e-01]\n",
            "   [1.53178930e-01 1.19531929e-01 0.00000000e+00 ... 0.00000000e+00\n",
            "    3.37373704e-01 1.10725887e-01]\n",
            "   ...\n",
            "   [8.05528462e-02 0.00000000e+00 1.05190538e-01 ... 0.00000000e+00\n",
            "    1.88804448e-01 2.43194401e-01]\n",
            "   [3.70747864e-01 8.21816623e-02 3.70980114e-01 ... 0.00000000e+00\n",
            "    2.20164776e-01 3.82567853e-01]\n",
            "   [6.91824794e-01 3.78512770e-01 4.96875048e-01 ... 0.00000000e+00\n",
            "    0.00000000e+00 1.15448065e-01]]\n",
            "\n",
            "  ...\n",
            "\n",
            "  [[2.34963536e-01 2.58983344e-01 0.00000000e+00 ... 0.00000000e+00\n",
            "    1.05038002e-01 1.72234744e-01]\n",
            "   [6.38867766e-02 2.73435742e-01 0.00000000e+00 ... 0.00000000e+00\n",
            "    0.00000000e+00 1.43009782e-01]\n",
            "   [3.98667306e-02 2.37681895e-01 4.33924273e-02 ... 0.00000000e+00\n",
            "    2.20046610e-01 3.63834083e-01]\n",
            "   ...\n",
            "   [8.87847841e-01 7.94088244e-02 1.48246586e-02 ... 0.00000000e+00\n",
            "    1.61261290e-01 3.21972936e-01]\n",
            "   [0.00000000e+00 1.76336050e-01 1.57108232e-02 ... 0.00000000e+00\n",
            "    5.79853475e-01 2.91762263e-01]\n",
            "   [5.67901373e-01 7.26157427e-03 0.00000000e+00 ... 0.00000000e+00\n",
            "    8.13925445e-01 1.65916115e-01]]\n",
            "\n",
            "  [[1.62250534e-01 3.78809959e-01 4.60266843e-02 ... 0.00000000e+00\n",
            "    2.04288155e-01 3.53968471e-01]\n",
            "   [0.00000000e+00 2.31112272e-01 2.69129872e-03 ... 0.00000000e+00\n",
            "    0.00000000e+00 7.96599165e-02]\n",
            "   [1.53587073e-01 2.42509931e-01 0.00000000e+00 ... 0.00000000e+00\n",
            "    8.10318142e-02 2.67811239e-01]\n",
            "   ...\n",
            "   [1.88557073e-01 2.69835383e-01 5.44021949e-02 ... 3.48584130e-02\n",
            "    2.89255649e-01 5.20342052e-01]\n",
            "   [1.35583386e-01 1.00759119e-01 3.05272639e-02 ... 2.08547451e-02\n",
            "    4.65390861e-01 3.06055039e-01]\n",
            "   [6.93506658e-01 2.23238319e-01 0.00000000e+00 ... 0.00000000e+00\n",
            "    4.43817973e-01 0.00000000e+00]]\n",
            "\n",
            "  [[3.25604886e-01 2.92367905e-01 8.56383517e-02 ... 0.00000000e+00\n",
            "    6.37142584e-02 2.75108486e-01]\n",
            "   [0.00000000e+00 2.92116135e-01 1.27948895e-02 ... 0.00000000e+00\n",
            "    1.74804032e-01 3.20497632e-01]\n",
            "   [4.99453917e-02 8.17625821e-02 5.60601279e-02 ... 0.00000000e+00\n",
            "    0.00000000e+00 2.45571882e-01]\n",
            "   ...\n",
            "   [3.82876009e-01 2.50728458e-01 7.78540447e-02 ... 0.00000000e+00\n",
            "    8.70122761e-02 1.52412027e-01]\n",
            "   [2.34169513e-01 2.35733539e-01 0.00000000e+00 ... 0.00000000e+00\n",
            "    0.00000000e+00 1.26287043e-01]\n",
            "   [6.63886368e-01 3.25331122e-01 9.43775252e-02 ... 0.00000000e+00\n",
            "    1.85593337e-01 3.69696468e-01]]]]\n"
          ]
        },
        {
          "output_type": "display_data",
          "data": {
            "text/plain": [
              "<Figure size 2000x2000 with 5 Axes>"
            ],
            "image/png": "[encoded data removed]"
          },
          "metadata": {}
        },
        {
          "output_type": "stream",
          "name": "stderr",
          "text": [
            "WARNING:tensorflow:5 out of the last 7 calls to <function Model.make_predict_function.<locals>.predict_function at 0x7b255b7b9090> triggered tf.function retracing. Tracing is expensive and the excessive number of tracings could be due to (1) creating @tf.function repeatedly in a loop, (2) passing tensors with different shapes, (3) passing Python objects instead of tensors. For (1), please define your @tf.function outside of the loop. For (2), @tf.function has reduce_retracing=True option that can avoid unnecessary retracing. For (3), please refer to https://www.tensorflow.org/guide/function#controlling_retracing and https://www.tensorflow.org/api_docs/python/tf/function for  more details.\n"
          ]
        },
        {
          "output_type": "stream",
          "name": "stdout",
          "text": [
            "1/1 [==============================] - 0s 87ms/step\n",
            "Layer: conv_2\n",
            "Output shape: (1, 13, 13, 64)\n",
            "Output values:\n",
            "[[[[0.         0.75065976 0.         ... 0.         0.2678569\n",
            "    0.        ]\n",
            "   [0.         0.65436906 0.         ... 0.         0.\n",
            "    0.        ]\n",
            "   [0.         0.949529   0.         ... 0.         0.\n",
            "    0.8758754 ]\n",
            "   ...\n",
            "   [0.         0.         0.         ... 0.         0.\n",
            "    0.68178576]\n",
            "   [0.         0.         0.         ... 0.         0.6878923\n",
            "    0.        ]\n",
            "   [0.         0.         0.         ... 0.         0.\n",
            "    0.15523453]]\n",
            "\n",
            "  [[0.         0.4698843  0.         ... 0.         0.\n",
            "    0.        ]\n",
            "   [0.         0.5723825  0.         ... 0.         0.\n",
            "    0.        ]\n",
            "   [0.         0.30345285 0.         ... 0.         0.\n",
            "    0.        ]\n",
            "   ...\n",
            "   [0.         0.         0.         ... 0.         0.\n",
            "    0.01914088]\n",
            "   [0.         0.         0.         ... 0.         0.4468724\n",
            "    1.0870569 ]\n",
            "   [0.         0.         0.         ... 0.         1.0039295\n",
            "    0.        ]]\n",
            "\n",
            "  [[0.         0.61045164 0.         ... 0.         0.33066815\n",
            "    0.        ]\n",
            "   [0.         0.49724948 0.         ... 0.         0.04600241\n",
            "    0.        ]\n",
            "   [0.         0.1825491  0.         ... 0.         0.\n",
            "    0.        ]\n",
            "   ...\n",
            "   [0.         0.35777262 0.         ... 0.         0.7487473\n",
            "    0.33320642]\n",
            "   [0.         0.39386725 0.         ... 0.         1.007702\n",
            "    1.2500407 ]\n",
            "   [0.         0.         0.         ... 0.         1.8806665\n",
            "    0.        ]]\n",
            "\n",
            "  ...\n",
            "\n",
            "  [[0.         0.         0.         ... 0.         0.09496722\n",
            "    0.        ]\n",
            "   [0.         0.         0.5124175  ... 0.         0.\n",
            "    0.        ]\n",
            "   [0.         0.8770327  0.         ... 0.         0.\n",
            "    0.        ]\n",
            "   ...\n",
            "   [0.         0.5305727  0.         ... 0.         0.\n",
            "    0.        ]\n",
            "   [0.         0.2990749  0.         ... 0.         0.\n",
            "    0.15658168]\n",
            "   [0.         0.         0.         ... 0.         0.\n",
            "    0.        ]]\n",
            "\n",
            "  [[0.         0.13243723 0.         ... 0.         0.17545623\n",
            "    0.        ]\n",
            "   [0.         0.6233352  0.         ... 0.         0.57795835\n",
            "    0.        ]\n",
            "   [0.         0.21208823 0.         ... 0.         0.\n",
            "    0.        ]\n",
            "   ...\n",
            "   [0.         0.7197133  0.         ... 0.         0.\n",
            "    0.4283262 ]\n",
            "   [0.         0.         0.         ... 0.         0.56353986\n",
            "    0.        ]\n",
            "   [0.         0.6419796  0.         ... 0.         0.\n",
            "    0.        ]]\n",
            "\n",
            "  [[0.         0.41713205 0.         ... 0.         0.7061567\n",
            "    0.        ]\n",
            "   [0.         0.29132396 0.         ... 0.         0.31033802\n",
            "    0.        ]\n",
            "   [0.         0.13650316 0.         ... 0.         0.19371396\n",
            "    0.        ]\n",
            "   ...\n",
            "   [0.         0.         0.         ... 0.         0.16994199\n",
            "    0.        ]\n",
            "   [0.         1.0954939  0.         ... 0.         0.\n",
            "    0.        ]\n",
            "   [0.         0.07783669 0.         ... 0.         0.62741613\n",
            "    0.        ]]]]\n"
          ]
        },
        {
          "output_type": "display_data",
          "data": {
            "text/plain": [
              "<Figure size 2000x2000 with 5 Axes>"
            ],
            "image/png": "[encoded data removed]"
          },
          "metadata": {}
        },
        {
          "output_type": "stream",
          "name": "stderr",
          "text": [
            "WARNING:tensorflow:6 out of the last 8 calls to <function Model.make_predict_function.<locals>.predict_function at 0x7b255be07640> triggered tf.function retracing. Tracing is expensive and the excessive number of tracings could be due to (1) creating @tf.function repeatedly in a loop, (2) passing tensors with different shapes, (3) passing Python objects instead of tensors. For (1), please define your @tf.function outside of the loop. For (2), @tf.function has reduce_retracing=True option that can avoid unnecessary retracing. For (3), please refer to https://www.tensorflow.org/guide/function#controlling_retracing and https://www.tensorflow.org/api_docs/python/tf/function for  more details.\n"
          ]
        },
        {
          "output_type": "stream",
          "name": "stdout",
          "text": [
            "1/1 [==============================] - 0s 89ms/step\n",
            "Layer: maxpool_2\n",
            "Output shape: (1, 6, 6, 64)\n",
            "Output values:\n",
            "[[[[0.         0.75065976 0.         ... 0.         0.2678569\n",
            "    0.        ]\n",
            "   [0.         0.949529   1.0981034  ... 0.         0.46697396\n",
            "    0.8758754 ]\n",
            "   [0.         0.5990172  0.74993557 ... 0.         0.\n",
            "    0.1643378 ]\n",
            "   [0.         0.         0.         ... 0.         0.83654034\n",
            "    0.18101443]\n",
            "   [0.         0.         0.         ... 0.         1.9701525\n",
            "    1.8088586 ]\n",
            "   [0.         0.         0.         ... 0.         0.6878923\n",
            "    1.0870569 ]]\n",
            "\n",
            "  [[0.         0.84884566 0.         ... 0.         0.33066815\n",
            "    0.        ]\n",
            "   [0.         0.5319869  0.12156203 ... 0.         0.1375855\n",
            "    0.        ]\n",
            "   [0.         0.14756238 0.         ... 0.         0.7636244\n",
            "    0.02684836]\n",
            "   [0.         0.         0.         ... 0.21323703 0.52558416\n",
            "    0.        ]\n",
            "   [0.         0.         0.         ... 0.         1.0706444\n",
            "    0.5225167 ]\n",
            "   [0.         0.39386725 0.         ... 0.         1.007702\n",
            "    1.2500407 ]]\n",
            "\n",
            "  [[0.         0.6281826  0.         ... 0.         0.32836264\n",
            "    0.        ]\n",
            "   [0.         0.48750782 0.         ... 0.         0.16802742\n",
            "    0.        ]\n",
            "   [0.         0.5929287  0.         ... 0.         0.44758308\n",
            "    0.        ]\n",
            "   [0.         0.49048984 0.         ... 0.         0.78665036\n",
            "    0.1753274 ]\n",
            "   [0.         0.79338986 0.         ... 0.         1.5031823\n",
            "    0.49083096]\n",
            "   [0.         0.1484125  0.         ... 0.         0.30530497\n",
            "    1.1269917 ]]\n",
            "\n",
            "  [[0.         0.9665838  0.         ... 0.         0.2585467\n",
            "    0.        ]\n",
            "   [0.         0.6781544  0.         ... 0.10351817 0.8488078\n",
            "    0.        ]\n",
            "   [0.         0.90085095 0.         ... 0.         0.5456178\n",
            "    0.        ]\n",
            "   [0.         1.214813   0.         ... 0.         0.70295846\n",
            "    0.        ]\n",
            "   [0.         0.89797765 0.         ... 0.         0.4761576\n",
            "    0.89049655]\n",
            "   [0.         0.66031176 0.         ... 0.         0.07059252\n",
            "    0.22533815]]\n",
            "\n",
            "  [[0.         0.9192313  0.         ... 0.         0.22303244\n",
            "    0.        ]\n",
            "   [0.         0.3096774  0.49701038 ... 0.5370639  0.8235679\n",
            "    0.        ]\n",
            "   [0.         0.7626753  0.         ... 0.19466607 1.2851719\n",
            "    0.40415084]\n",
            "   [0.         0.737658   0.         ... 0.         1.043436\n",
            "    0.        ]\n",
            "   [0.         1.423368   0.         ... 0.         0.41359943\n",
            "    0.        ]\n",
            "   [0.         0.95511925 0.         ... 0.         0.\n",
            "    0.25360698]]\n",
            "\n",
            "  [[0.         0.6233352  0.5124175  ... 0.         0.57795835\n",
            "    0.        ]\n",
            "   [0.         0.8770327  0.         ... 0.         0.596987\n",
            "    0.        ]\n",
            "   [0.         0.21278341 0.         ... 0.         0.6807565\n",
            "    0.        ]\n",
            "   [0.         0.616615   0.         ... 0.         0.4807089\n",
            "    0.36805397]\n",
            "   [0.         0.78750855 0.         ... 0.         0.644166\n",
            "    0.73480856]\n",
            "   [0.         0.7197133  0.         ... 0.         0.56353986\n",
            "    0.4283262 ]]]]\n"
          ]
        },
        {
          "output_type": "display_data",
          "data": {
            "text/plain": [
              "<Figure size 2000x2000 with 5 Axes>"
            ],
            "image/png": "[encoded data removed]"
          },
          "metadata": {}
        }
      ],
      "source": [
        "# Visualisasi hasil dari layer pertama Convolution, Max Pooling, dan Flatten\n",
        "img_array = load_and_preprocess_image(img_path1)\n",
        "visualize_layer('conv_1', img_array)\n",
        "visualize_layer('maxpool_1', img_array)\n",
        "visualize_layer('conv_2', img_array)\n",
        "visualize_layer('maxpool_2', img_array)\n"
      ]
    },
    {
      "cell_type": "code",
      "execution_count": 20,
      "metadata": {
        "colab": {
          "base_uri": "https://localhost:8080/"
        },
        "id": "7ZsGDv8apqlJ",
        "outputId": "8f7ba345-cc46-45ba-ce88-4dd1943a997b"
      },
      "outputs": [
        {
          "output_type": "stream",
          "name": "stdout",
          "text": [
            "1/1 [==============================] - 0s 66ms/step\n",
            "Layer: flatten\n",
            "Output shape: (1, 2304)\n",
            "Output values:\n",
            "[[0.         0.75065976 0.         ... 0.         0.56353986 0.4283262 ]]\n"
          ]
        }
      ],
      "source": [
        "# Visualisasi perhitungan flatten\n",
        "intermediate_layer_model = tf.keras.models.Model(inputs=model.input, outputs=model.get_layer('flatten').output)\n",
        "intermediate_output = intermediate_layer_model.predict(img_array)\n",
        "print(\"Layer: flatten\")\n",
        "print(f\"Output shape: {intermediate_output.shape}\")\n",
        "print(\"Output values:\")\n",
        "print(intermediate_output)"
      ]
    }
  ],
  "metadata": {
    "colab": {
      "provenance": []
    },
    "kernelspec": {
      "display_name": "Python 3",
      "name": "python3"
    },
    "language_info": {
      "name": "python"
    }
  },
  "nbformat": 4,
  "nbformat_minor": 0
}